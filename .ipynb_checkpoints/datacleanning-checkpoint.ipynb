{
 "cells": [
  {
   "cell_type": "code",
   "execution_count": null,
   "id": "7c89ec6c",
   "metadata": {},
   "outputs": [],
   "source": [
    "import pandas as pd\n",
    "import os\n",
    "from sqlalchemy import create_engine\n",
    "import logging"
   ]
  },
  {
   "cell_type": "code",
   "execution_count": null,
   "id": "6cdc6dce",
   "metadata": {},
   "outputs": [
    {
     "ename": "NameError",
     "evalue": "name 'logging' is not defined",
     "output_type": "error",
     "traceback": [
      "\u001b[31m---------------------------------------------------------------------------\u001b[39m",
      "\u001b[31mNameError\u001b[39m                                 Traceback (most recent call last)",
      "\u001b[36mCell\u001b[39m\u001b[36m \u001b[39m\u001b[32mIn[13]\u001b[39m\u001b[32m, line 1\u001b[39m\n\u001b[32m----> \u001b[39m\u001b[32m1\u001b[39m \u001b[43mlogging\u001b[49m.basicConfig(filename=\u001b[33m\"\u001b[39m\u001b[33mlogs/.log\u001b[39m\u001b[33m\"\u001b[39m,level=logging.DEBUG, \u001b[38;5;28mformat\u001b[39m=\u001b[33m'\u001b[39m\u001b[38;5;132;01m%(asctime)s\u001b[39;00m\u001b[33m - \u001b[39m\u001b[38;5;132;01m%(levelname)s\u001b[39;00m\u001b[33m - \u001b[39m\u001b[38;5;132;01m%(message)s\u001b[39;00m\u001b[33m'\u001b[39m,filemode=\u001b[33m'\u001b[39m\u001b[33ma\u001b[39m\u001b[33m'\u001b[39m)\n",
      "\u001b[31mNameError\u001b[39m: name 'logging' is not defined"
     ]
    }
   ],
   "source": [
    "logging.basicConfig(\n",
    "    filename=\"logs/ingestion_db.log\",\n",
    "    level=logging.DEBUG,\n",
    "    format='%(asctime)s - %(levelname)s - %(message)s',\n",
    "    filemode='a'\n",
    ")"
   ]
  },
  {
   "cell_type": "code",
   "execution_count": 8,
   "id": "b0d471b0",
   "metadata": {},
   "outputs": [],
   "source": [
    "engine = create_engine('sqlite:///inventory.db')"
   ]
  },
  {
   "cell_type": "code",
   "execution_count": 12,
   "id": "d0e581d6",
   "metadata": {},
   "outputs": [
    {
     "name": "stdout",
     "output_type": "stream",
     "text": [
      "(206529, 9)\n",
      "✅ Data ingested into begin_inventory table.\n",
      "(224489, 9)\n",
      "✅ Data ingested into end_inventory table.\n",
      "(2372474, 16)\n",
      "✅ Data ingested into purchases table.\n",
      "(12261, 9)\n",
      "✅ Data ingested into purchase_prices table.\n",
      "(12825363, 14)\n",
      "✅ Data ingested into sales table.\n",
      "(5543, 10)\n",
      "✅ Data ingested into vendor_invoice table.\n"
     ]
    }
   ],
   "source": [
    "def load_raw_data():\n",
    "    for file in os.listdir('data'):\n",
    "        if '.csv' in file:\n",
    "            df = pd.read_csv(os.path.join('data', file))\n",
    "            logging.info(f'Ingesting {file} in db')\n",
    "            ingest_db(df, file.split('.')[0], engine)\n",
    "        logging.info('Ingestion Complete')"
   ]
  },
  {
   "cell_type": "code",
   "execution_count": 11,
   "id": "8ac5ff8a",
   "metadata": {},
   "outputs": [],
   "source": [
    "def ingest_db(df, table_name, engine, chunk_size=1000):\n",
    "    try:\n",
    "        df.to_sql(\n",
    "            table_name,\n",
    "            con=engine,\n",
    "            if_exists='replace',\n",
    "            index=False,\n",
    "            chunksize=chunk_size,\n",
    "            method='multi'  # optional: speeds up insert for supported DBs\n",
    "        )\n",
    "        print(f\"✅ Data ingested into {table_name} table.\")\n",
    "    except Exception as e:\n",
    "        print(f\"❌ Failed to ingest {table_name}: {e}\")"
   ]
  }
 ],
 "metadata": {
  "kernelspec": {
   "display_name": "Python 3 (ipykernel)",
   "language": "python",
   "name": "python3"
  },
  "language_info": {
   "codemirror_mode": {
    "name": "ipython",
    "version": 3
   },
   "file_extension": ".py",
   "mimetype": "text/x-python",
   "name": "python",
   "nbconvert_exporter": "python",
   "pygments_lexer": "ipython3",
   "version": "3.13.1"
  }
 },
 "nbformat": 4,
 "nbformat_minor": 5
}
