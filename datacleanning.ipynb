{
 "cells": [
  {
   "cell_type": "code",
   "execution_count": 2,
   "id": "7c89ec6c",
   "metadata": {},
   "outputs": [],
   "source": [
    "import pandas as pd\n",
    "import os\n",
    "from sqlalchemy import create_engine\n",
    "import logging\n",
    "import time"
   ]
  },
  {
   "cell_type": "code",
   "execution_count": null,
   "id": "d0e581d6",
   "metadata": {},
   "outputs": [
    {
     "name": "stdout",
     "output_type": "stream",
     "text": [
      "✅ Data ingested into begin_inventory table.\n",
      "✅ Data ingested into end_inventory table.\n"
     ]
    }
   ],
   "source": [
    "logging.basicConfig(\n",
    "    filename=\"logs/ingestion_db.log\",\n",
    "    level=logging.DEBUG,\n",
    "    format='%(asctime)s - %(levelname)s - %(message)s',\n",
    "    filemode='a'\n",
    ")\n",
    "\n",
    "engine = create_engine('sqlite:///inventory.db')\n",
    "\n",
    "def ingest_db(df, table_name, engine, chunk_size=1000):\n",
    "    '''this function will ingest the dataframe into database table'''\n",
    "    try:\n",
    "        df.to_sql(\n",
    "            table_name,\n",
    "            con=engine,\n",
    "            if_exists='replace',\n",
    "            index=False,\n",
    "            chunksize=chunk_size,\n",
    "            method='multi'  # optional: speeds up insert for supported DBs\n",
    "        )\n",
    "        print(f\"✅ Data ingested into {table_name} table.\")\n",
    "    except Exception as e:\n",
    "        print(f\"❌ Failed to ingest {table_name}: {e}\")\n",
    "        \n",
    "def load_raw_data():\n",
    "    '''this function will load the CSVs as dataframe and ingest into db'''\n",
    "    start = time.time()\n",
    "    for file in os.listdir('data'):\n",
    "        if '.csv' in file:\n",
    "            df = pd.read_csv(os.path.join('data', file))\n",
    "            logging.info(f'Ingesting {file} in db')\n",
    "            ingest_db(df, file.split('.')[0], engine)\n",
    "        end = time.time()\n",
    "        total_time = (end - start)/60\n",
    "        logging.info('--------------Ingestion Complete---------------')\n",
    "        logging.info(f'Total Time Taken: {total_time} minutes')\n",
    "if __name__ == '__main__':\n",
    "    load_raw_data()"
   ]
  }
 ],
 "metadata": {
  "kernelspec": {
   "display_name": ".venv",
   "language": "python",
   "name": "python3"
  },
  "language_info": {
   "codemirror_mode": {
    "name": "ipython",
    "version": 3
   },
   "file_extension": ".py",
   "mimetype": "text/x-python",
   "name": "python",
   "nbconvert_exporter": "python",
   "pygments_lexer": "ipython3",
   "version": "3.13.1"
  }
 },
 "nbformat": 4,
 "nbformat_minor": 5
}
